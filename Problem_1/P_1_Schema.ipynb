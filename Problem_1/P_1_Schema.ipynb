{
 "cells": [
  {
   "cell_type": "code",
   "execution_count": 1,
   "id": "04b16ce9-b666-4c70-815d-d43ccb24dc77",
   "metadata": {},
   "outputs": [],
   "source": [
    "import sqlite3\n",
    "import random\n",
    "from datetime import date, timedelta\n",
    "import names"
   ]
  },
  {
   "cell_type": "code",
   "execution_count": 2,
   "id": "7f57a7e1-1a60-4675-92aa-f7cba610b25f",
   "metadata": {},
   "outputs": [],
   "source": [
    "conn = sqlite3.connect('ecommerce_actual.db')"
   ]
  },
  {
   "cell_type": "code",
   "execution_count": 3,
   "id": "7e0c99e2-c255-4b69-88d3-ee143cd74632",
   "metadata": {},
   "outputs": [],
   "source": [
    "cursor = conn.cursor()"
   ]
  },
  {
   "cell_type": "markdown",
   "id": "66780980-f20f-49e7-9eb5-b9c9666a054a",
   "metadata": {},
   "source": [
    "## Schema Design"
   ]
  },
  {
   "cell_type": "code",
   "execution_count": 4,
   "id": "d457f471-a34f-4e49-a5a7-31922ba6e915",
   "metadata": {},
   "outputs": [
    {
     "data": {
      "text/plain": [
       "<sqlite3.Cursor at 0x11830c7a5e0>"
      ]
     },
     "execution_count": 4,
     "metadata": {},
     "output_type": "execute_result"
    }
   ],
   "source": [
    "# Customer Table\n",
    "cursor.execute('''\n",
    "DROP TABLE IF EXISTS Customers\n",
    "''')\n",
    "\n",
    "cursor.execute('''\n",
    "CREATE TABLE Customers (\n",
    "    CustomerID SERIAL PRIMARY KEY,\n",
    "    FirstName VARCHAR(50),\n",
    "    LastName VARCHAR(50),\n",
    "    Email VARCHAR(100),\n",
    "    PhoneNumber VARCHAR(15)\n",
    ")\n",
    "''')\n",
    "\n",
    "# Address Table\n",
    "cursor.execute('''\n",
    "DROP TABLE IF EXISTS Addresses\n",
    "''')\n",
    "\n",
    "cursor.execute('''\n",
    "CREATE TABLE Addresses (\n",
    "    AddressID INTEGER PRIMARY KEY,\n",
    "    CustomerID INTEGER,\n",
    "    Street TEXT,\n",
    "    City TEXT,\n",
    "    State TEXT,\n",
    "    ZipCode TEXT,\n",
    "    Country TEXT,\n",
    "    FOREIGN KEY (CustomerID) REFERENCES Customers(CustomerID)\n",
    "    )\n",
    "''')\n",
    "\n",
    "# Product Table\n",
    "cursor.execute('''\n",
    "DROP TABLE IF EXISTS Products\n",
    "''')\n",
    "\n",
    "cursor.execute('''\n",
    "CREATE TABLE Products (\n",
    "    ProductID INTEGER PRIMARY KEY,\n",
    "    ProductName TEXT,\n",
    "    Category TEXT\n",
    ")\n",
    "''')\n",
    "\n",
    "# Product Variants Table\n",
    "cursor.execute('''\n",
    "DROP TABLE IF EXISTS ProductVariants\n",
    "''')\n",
    "cursor.execute('''\n",
    "CREATE TABLE ProductVariants (\n",
    "    VariantID INTEGER PRIMARY KEY,\n",
    "    ProductID INTEGER,\n",
    "    VariantName TEXT,\n",
    "    LaunchDate DATE,\n",
    "    DiscontinuedDate DATE,\n",
    "    FOREIGN KEY (ProductID) REFERENCES Products(ProductID)\n",
    ")\n",
    "''')\n",
    "\n",
    "# Price Table\n",
    "cursor.execute('''\n",
    "DROP TABLE IF EXISTS Prices\n",
    "''')\n",
    "\n",
    "cursor.execute('''\n",
    "CREATE TABLE Prices (\n",
    "    PriceID INTEGER PRIMARY KEY,\n",
    "    VariantID INTEGER,\n",
    "    Price REAL,\n",
    "    EffectiveFrom DATE,\n",
    "    EffectiveTo DATE,\n",
    "    FOREIGN KEY (VariantID) REFERENCES ProductVariants(VariantID)\n",
    ")\n",
    "''')\n",
    "\n",
    "# Orders Table\n",
    "cursor.execute('''\n",
    "DROP TABLE IF EXISTS Orders\n",
    "''')\n",
    "\n",
    "cursor.execute('''\n",
    "CREATE TABLE Orders (\n",
    "    OrderID INTEGER PRIMARY KEY,\n",
    "    CustomerID INTEGER,\n",
    "    OrderDate DATE,\n",
    "    ShippingAddressID INTEGER,\n",
    "    FOREIGN KEY (CustomerID) REFERENCES Customers(CustomerID),\n",
    "    FOREIGN KEY (ShippingAddressID) REFERENCES Addresses(AddressID)\n",
    ")\n",
    "''')\n",
    "\n",
    "# OrderDetails Table:\n",
    "cursor.execute('''\n",
    "DROP TABLE IF EXISTS OrderDetails\n",
    "''')\n",
    "\n",
    "cursor.execute('''\n",
    "CREATE TABLE OrderDetails (\n",
    "    OrderDetailID INTEGER PRIMARY KEY,\n",
    "    OrderID INTEGER,\n",
    "    VariantID INTEGER,\n",
    "    Quantity INTEGER,\n",
    "    UnitPrice REAL,\n",
    "    FOREIGN KEY (OrderID) REFERENCES Orders(OrderID),\n",
    "    FOREIGN KEY (VariantID) REFERENCES ProductVariants(VariantID)\n",
    ")\n",
    "''')\n",
    "\n"
   ]
  },
  {
   "cell_type": "markdown",
   "id": "80daf335-e0e4-4f92-a737-2c4e2f0bab1f",
   "metadata": {},
   "source": [
    "## Data Generation:"
   ]
  },
  {
   "cell_type": "code",
   "execution_count": 5,
   "id": "83fa7fef-4e65-405e-a1f5-7400c418d967",
   "metadata": {},
   "outputs": [],
   "source": [
    "customers = []\n",
    "addresses = []\n",
    "\n",
    "for i in range(20):\n",
    "    first_name = names.get_first_name()\n",
    "    last_name = names.get_last_name()\n",
    "    email = f\"{first_name.lower()}.{last_name.lower()}@example.com\"\n",
    "    phone_number = f\"+91{random.randint(1000000000, 9999999999)}\"\n",
    "    customers.append((i+1, first_name, last_name, email, phone_number))\n",
    "    \n",
    "    for j in range(random.randint(1, 3)):\n",
    "            street = f\"{random.randint(100, 999)} Main St\"\n",
    "            city = \"Kanpur\"\n",
    "            state = \"Uttar Pradesh\"\n",
    "            zip_code = f\"{random.randint(100000, 999999)}\"\n",
    "            country = \"India\"\n",
    "            addresses.append((len(addresses) + 1, i + 1, street, city, state, zip_code, country))\n"
   ]
  },
  {
   "cell_type": "code",
   "execution_count": 6,
   "id": "0efba66f-5226-4768-9b58-c8c43bcb5147",
   "metadata": {},
   "outputs": [],
   "source": [
    "products = []\n",
    "variants = []\n",
    "\n",
    "for i in range(20):\n",
    "    product_name = f\"Product{i + 1}\"\n",
    "    category = \"Category\" + str(random.randint(1, 3))\n",
    "    products.append((i + 1, product_name, category))\n",
    "    \n",
    "    for j in range(random.randint(1, 3)):\n",
    "        variant_name = f\"{product_name} Variant{j + 1}\"\n",
    "        launch_date = date.today() - timedelta(days=random.randint(365, 1825))\n",
    "        discontinued_date = launch_date + timedelta(days=random.randint(30, 120))\n",
    "        variants.append((len(variants) + 1, i + 1, variant_name, launch_date, discontinued_date))\n"
   ]
  },
  {
   "cell_type": "code",
   "execution_count": 7,
   "id": "23dc4c7d-b8d2-421f-93d4-864c7342315f",
   "metadata": {},
   "outputs": [],
   "source": [
    "prices = []\n",
    "\n",
    "for variant in variants:\n",
    "    for j in range(random.randint(1, 3)):\n",
    "        price = round(random.uniform(100, 1000), 2)\n",
    "        effective_from = date.today() - timedelta(days=random.randint(0, 365))\n",
    "        effective_to = effective_from + timedelta(days=random.randint(30, 365))\n",
    "        prices.append((len(prices) + 1, variant[0], price, effective_from, effective_to))"
   ]
  },
  {
   "cell_type": "code",
   "execution_count": 8,
   "id": "dd3347d9-aba9-4d02-94b6-48c93140b0a7",
   "metadata": {},
   "outputs": [],
   "source": [
    "orders = []\n",
    "order_details = []\n",
    "\n",
    "for i in range(1000):\n",
    "    customer_id = random.choice(customers)[0]\n",
    "    order_date = date.today() - timedelta(days=random.randint(0, 1825))\n",
    "    shipping_address_id = random.choice([addr[0] for addr in addresses if addr[1] == customer_id])\n",
    "    orders.append((i + 1, customer_id, order_date, shipping_address_id))\n",
    "    \n",
    "    for j in range(random.randint(1, 5)):\n",
    "        variant_id = random.choice(variants)[0]\n",
    "        quantity = random.randint(1, 5)\n",
    "        unit_price = random.choice([price[2] for price in prices if price[1] == variant_id])\n",
    "        order_details.append((len(order_details) + 1, i + 1, variant_id, quantity, unit_price))"
   ]
  },
  {
   "cell_type": "markdown",
   "id": "cc67c30d-4028-4083-8036-a4367c2e200a",
   "metadata": {},
   "source": [
    "## Data Insert:"
   ]
  },
  {
   "cell_type": "code",
   "execution_count": 9,
   "id": "106a306d-9e3e-419b-b414-293f9eb88335",
   "metadata": {},
   "outputs": [],
   "source": [
    "cursor.executemany('INSERT INTO Customers VALUES (?, ?, ?, ?, ?)', customers)\n",
    "cursor.executemany('INSERT INTO Addresses VALUES (?, ?, ?, ?, ?, ?, ?)', addresses)\n",
    "cursor.executemany('INSERT INTO Products VALUES (?, ?, ?)', products)\n",
    "cursor.executemany('INSERT INTO ProductVariants VALUES (?, ?, ?, ?, ?)', variants)\n",
    "cursor.executemany('INSERT INTO Prices VALUES (?, ?, ?, ?, ?)', prices)\n",
    "cursor.executemany('INSERT INTO Orders VALUES (?, ?, ?, ?)', orders)\n",
    "cursor.executemany('INSERT INTO OrderDetails VALUES (?, ?, ?, ?, ?)', order_details)\n",
    "\n",
    "conn.commit()\n",
    "conn.close()"
   ]
  },
  {
   "cell_type": "markdown",
   "id": "4af38df4-9502-497d-8f02-abdc328033ba",
   "metadata": {},
   "source": [
    "## Checking:"
   ]
  },
  {
   "cell_type": "code",
   "execution_count": 10,
   "id": "01e8744f-e18a-4e70-8c24-f7be4cdd1535",
   "metadata": {},
   "outputs": [],
   "source": [
    "conn = sqlite3.connect('ecommerce_actual.db')\n",
    "cursor = conn.cursor()"
   ]
  },
  {
   "cell_type": "code",
   "execution_count": 11,
   "id": "cd219b25-6c82-4cd5-82a5-5c3462b76282",
   "metadata": {},
   "outputs": [
    {
     "name": "stdout",
     "output_type": "stream",
     "text": [
      "(1, 'Lottie', 'Alonso', 'lottie.alonso@example.com', '+915315287583')\n",
      "(2, 'Arlene', 'Alejandro', 'arlene.alejandro@example.com', '+913428399025')\n",
      "(3, 'Stephanie', 'Wood', 'stephanie.wood@example.com', '+915197706853')\n",
      "(4, 'Gene', 'Cline', 'gene.cline@example.com', '+916231551796')\n",
      "(5, 'Keith', 'Broun', 'keith.broun@example.com', '+913783569047')\n",
      "(6, 'Cora', 'Labranche', 'cora.labranche@example.com', '+918172328951')\n",
      "(7, 'Sharon', 'Arnett', 'sharon.arnett@example.com', '+915485941387')\n",
      "(8, 'Robert', 'Sherlock', 'robert.sherlock@example.com', '+919424895442')\n",
      "(9, 'Joanne', 'Collins', 'joanne.collins@example.com', '+916928777287')\n",
      "(10, 'Micheal', 'Rodriguez', 'micheal.rodriguez@example.com', '+914435563478')\n",
      "(11, 'Felicia', 'Longino', 'felicia.longino@example.com', '+912312934833')\n",
      "(12, 'Madeline', 'Vig', 'madeline.vig@example.com', '+911951379374')\n",
      "(13, 'Clara', 'Martin', 'clara.martin@example.com', '+911465129596')\n",
      "(14, 'Sandra', 'Zamora', 'sandra.zamora@example.com', '+911052200658')\n",
      "(15, 'Elinore', 'Vannest', 'elinore.vannest@example.com', '+916101786942')\n",
      "(16, 'Lloyd', 'Mcfadden', 'lloyd.mcfadden@example.com', '+917363376523')\n",
      "(17, 'Rebecca', 'Hoag', 'rebecca.hoag@example.com', '+915890665814')\n",
      "(18, 'Barry', 'Smith', 'barry.smith@example.com', '+917322007245')\n",
      "(19, 'Jewel', 'Shaw', 'jewel.shaw@example.com', '+911419444824')\n",
      "(20, 'Janet', 'Ortiz', 'janet.ortiz@example.com', '+918069359469')\n"
     ]
    }
   ],
   "source": [
    "output = conn.execute(\"\"\"SELECT * FROM Customers\"\"\")\n",
    "for row in output:\n",
    "    print(row)"
   ]
  }
 ],
 "metadata": {
  "kernelspec": {
   "display_name": "Python [conda env:tf-gpu] *",
   "language": "python",
   "name": "conda-env-tf-gpu-py"
  },
  "language_info": {
   "codemirror_mode": {
    "name": "ipython",
    "version": 3
   },
   "file_extension": ".py",
   "mimetype": "text/x-python",
   "name": "python",
   "nbconvert_exporter": "python",
   "pygments_lexer": "ipython3",
   "version": "3.9.15"
  }
 },
 "nbformat": 4,
 "nbformat_minor": 5
}
