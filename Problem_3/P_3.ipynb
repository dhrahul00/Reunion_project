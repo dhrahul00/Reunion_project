{
 "cells": [
  {
   "cell_type": "code",
   "execution_count": 1,
   "id": "c810a5f6-a949-45b3-a9d7-f9facb85523d",
   "metadata": {},
   "outputs": [],
   "source": [
    "import pandas as pd\n",
    "import json\n",
    "import re\n",
    "import os\n",
    "import numpy as np\n",
    "import sqlite3"
   ]
  },
  {
   "cell_type": "markdown",
   "id": "daae2ba8-712e-493b-b6d0-b275972ef5cb",
   "metadata": {},
   "source": [
    "## Json file Loading and Data Clenaing"
   ]
  },
  {
   "cell_type": "code",
   "execution_count": 2,
   "id": "712234ee-460e-45c9-9de0-0178102db39f",
   "metadata": {},
   "outputs": [],
   "source": [
    "file_path = r\"C:\\Users\\rahul\\python\\Data Assignment - Reunion\\JSON\"\n",
    "clean_dict = {}\n",
    "for dir,_,files in os.walk(file_path):\n",
    "    for file in files:\n",
    "        df = pd.read_json(dir+\"/\"+file)\n",
    "        df_copy = df.copy()\n",
    "        movie_names = df_copy.columns\n",
    "\n",
    "        max_len = 0\n",
    "        for movie in movie_names:\n",
    "            data = df_copy[movie].loc[0]\n",
    "            if len(data) > max_len:\n",
    "                max_len = len(data)\n",
    "                max_len_movie = movie\n",
    "        \n",
    "        data = df_copy[max_len_movie].loc[0]\n",
    "        data = {re.sub(r'\\s','',key).lower():value for key, value in data.items()}\n",
    "        for key in data:\n",
    "            data[key] = []\n",
    "        data_dict = {'moviename':[]}|data\n",
    "        \n",
    "        for movie in movie_names:\n",
    "            df_dict = df_copy[movie].loc[0]\n",
    "            df_dict = {re.sub(r'\\s','',key).lower():value for key, value in df_dict.items()}\n",
    "            data_dict['moviename'].append(movie)\n",
    "            for key in data:\n",
    "                data_dict[key].append(df_dict.get(key))\n",
    "        \n",
    "        clean_dict[file] = pd.DataFrame(data_dict)\n",
    "        clean_dict[file].replace([None,'unknown','unkown','unrated'],np.nan,inplace=True)"
   ]
  },
  {
   "cell_type": "code",
   "execution_count": 3,
   "id": "bdf29176-19af-41c2-a5f2-a989601e8072",
   "metadata": {},
   "outputs": [],
   "source": [
    "all_movies_df = pd.concat(clean_dict.values(),ignore_index=True)"
   ]
  },
  {
   "cell_type": "markdown",
   "id": "8d7d01a5-1824-429d-a139-e9dceb3cc26c",
   "metadata": {},
   "source": [
    "## Data Normalization:"
   ]
  },
  {
   "cell_type": "code",
   "execution_count": 4,
   "id": "1051a619-39b4-4f13-a851-a937385da799",
   "metadata": {},
   "outputs": [],
   "source": [
    "all_movies_df['imdbmetascore'] = pd.to_numeric(all_movies_df['imdbmetascore'])\n",
    "all_movies_df['popcornscore'] = pd.to_numeric(all_movies_df['popcornscore'])\n",
    "all_movies_df['tomatoscore'] = pd.to_numeric(all_movies_df['tomatoscore'])\n",
    "\n",
    "all_movies_df['gross'] = pd.to_numeric(all_movies_df['gross'].apply(lambda x: \"\".join(re.findall('\\d+',str(x)))))"
   ]
  },
  {
   "cell_type": "code",
   "execution_count": 5,
   "id": "5b891212-2dc8-436d-99cc-76c020a594e1",
   "metadata": {},
   "outputs": [
    {
     "name": "stdout",
     "output_type": "stream",
     "text": [
      "<class 'pandas.core.frame.DataFrame'>\n",
      "Int64Index: 77 entries, 0 to 106\n",
      "Data columns (total 7 columns):\n",
      " #   Column         Non-Null Count  Dtype  \n",
      "---  ------         --------------  -----  \n",
      " 0   moviename      77 non-null     object \n",
      " 1   genre          34 non-null     object \n",
      " 2   gross          21 non-null     float64\n",
      " 3   imdbmetascore  34 non-null     float64\n",
      " 4   popcornscore   63 non-null     float64\n",
      " 5   rating         63 non-null     object \n",
      " 6   tomatoscore    62 non-null     float64\n",
      "dtypes: float64(4), object(3)\n",
      "memory usage: 4.8+ KB\n"
     ]
    }
   ],
   "source": [
    "all_movies_df.drop_duplicates(inplace=True)\n",
    "all_movies_df.info()"
   ]
  },
  {
   "cell_type": "code",
   "execution_count": 6,
   "id": "6de0eb10-7719-4395-a3c3-e71e6c9a8438",
   "metadata": {},
   "outputs": [],
   "source": [
    "movies_df = all_movies_df[['moviename','gross']].groupby(by='moviename').sum().reset_index()\n",
    "movies_df['movieID'] = movies_df.index+1"
   ]
  },
  {
   "cell_type": "code",
   "execution_count": 7,
   "id": "72592372-59df-47c8-ba87-48f8a516873e",
   "metadata": {},
   "outputs": [],
   "source": [
    "genre_df = all_movies_df[['genre']].drop_duplicates().reset_index(drop=True)\n",
    "genre_df['genreID'] = genre_df.index+1"
   ]
  },
  {
   "cell_type": "code",
   "execution_count": 8,
   "id": "5258a654-f65f-476c-b2d1-e95223c6e6fe",
   "metadata": {},
   "outputs": [],
   "source": [
    "rating = ['moviename','imdbmetascore', 'popcornscore','rating', 'tomatoscore']\n",
    "rating_df = all_movies_df[rating].drop_duplicates()\n",
    "rating_df['ratingID'] = rating_df.index+1\n",
    "rating_df = movies_df[['movieID','moviename']].merge(rating_df,on='moviename',how='inner')\n",
    "rating_df = rating_df.drop('moviename',axis=1)"
   ]
  },
  {
   "cell_type": "code",
   "execution_count": 9,
   "id": "2630262d-5e5b-467f-91f7-4975c5d41c0b",
   "metadata": {},
   "outputs": [],
   "source": [
    "movie_genre_df = all_movies_df[['moviename','genre']].drop_duplicates()\n",
    "movie_genre_df = genre_df.merge(movie_genre_df,on='genre',how='inner')\n",
    "movie_genre_df = movies_df.merge(movie_genre_df,on='moviename',how='inner')\n",
    "movie_genre_df = movie_genre_df.drop(['moviename','gross','genre'],axis=1)"
   ]
  },
  {
   "cell_type": "markdown",
   "id": "ae68578f-5163-4276-8654-de7c8ef01cb1",
   "metadata": {},
   "source": [
    "## Connect to SQL:"
   ]
  },
  {
   "cell_type": "code",
   "execution_count": 10,
   "id": "60be3199-ca58-4744-8ae6-cfe119bdaad9",
   "metadata": {},
   "outputs": [],
   "source": [
    "import psycopg2\n",
    "\n",
    "conn = psycopg2.connect(\n",
    "    host = 'localhost',\n",
    "    database = 'moviedb',\n",
    "    user = 'postgres',\n",
    "    password = 'Rahul@123'\n",
    ")\n",
    "\n",
    "cursor = conn.cursor()"
   ]
  },
  {
   "cell_type": "code",
   "execution_count": 11,
   "id": "2a9f2f92-0c9b-4f42-99f4-e318777011e1",
   "metadata": {},
   "outputs": [],
   "source": [
    "for idx,row in movies_df.iterrows():\n",
    "    cursor.execute(\n",
    "        '''INSERT INTO Movies (movieid,Title,gross) VALUES (%s, %s, %s) RETURNING movieid''',\n",
    "        (row['movieID'],row['moviename'],row['gross'])\n",
    "    )\n",
    "    conn.commit()"
   ]
  },
  {
   "cell_type": "code",
   "execution_count": 12,
   "id": "edf2dde4-5164-4ecd-aae5-46263d0b087a",
   "metadata": {},
   "outputs": [],
   "source": [
    "for idx,row in genre_df.iterrows():\n",
    "    cursor.execute(\n",
    "        '''INSERT INTO genres (genreID,GenreName) VALUES (%s, %s) RETURNING genreID''',\n",
    "        (row['genreID'],row['genre'])\n",
    "    )\n",
    "    conn.commit()"
   ]
  },
  {
   "cell_type": "code",
   "execution_count": 13,
   "id": "1f1fdf0f-28ab-476c-af81-42145843d159",
   "metadata": {},
   "outputs": [],
   "source": [
    "for idx,row in rating_df.iterrows():\n",
    "    cursor.execute(\n",
    "        '''INSERT INTO ratings (RatingID,MovieID,IMDB_Metascore,Popcorn_Score,Rating,Tomato_Score) VALUES (%s, %s, %s, %s, %s, %s) RETURNING RatingID''',\n",
    "        (row['ratingID'],row['movieID'],row['imdbmetascore'],row['popcornscore'],row['rating'],row['tomatoscore'])\n",
    "    )\n",
    "    conn.commit()"
   ]
  },
  {
   "cell_type": "code",
   "execution_count": 14,
   "id": "99051f29-039f-43dd-a8ef-cbfe7178a9b2",
   "metadata": {},
   "outputs": [],
   "source": [
    "movie_genre_df = movie_genre_df.convert_dtypes()\n",
    "for idx,row in movie_genre_df.iterrows():\n",
    "    cursor.execute(\n",
    "        '''INSERT INTO MovieGenres (MovieID,GenreID) VALUES (%s, %s)''',\n",
    "        (row['movieID'],row['genreID'])\n",
    "    )\n",
    "    conn.commit()"
   ]
  },
  {
   "cell_type": "code",
   "execution_count": null,
   "id": "b496f47b-4dd9-458c-bb5d-987a64956f42",
   "metadata": {},
   "outputs": [],
   "source": []
  }
 ],
 "metadata": {
  "kernelspec": {
   "display_name": "Python [conda env:tf-gpu] *",
   "language": "python",
   "name": "conda-env-tf-gpu-py"
  },
  "language_info": {
   "codemirror_mode": {
    "name": "ipython",
    "version": 3
   },
   "file_extension": ".py",
   "mimetype": "text/x-python",
   "name": "python",
   "nbconvert_exporter": "python",
   "pygments_lexer": "ipython3",
   "version": "3.9.15"
  }
 },
 "nbformat": 4,
 "nbformat_minor": 5
}
