{
 "cells": [
  {
   "cell_type": "code",
   "execution_count": 20,
   "metadata": {},
   "outputs": [],
   "source": [
    "import numpy as np\n",
    "import pandas as pd\n",
    "import matplotlib.pyplot as plt"
   ]
  },
  {
   "cell_type": "code",
   "execution_count": 2,
   "metadata": {},
   "outputs": [],
   "source": [
    "df = pd.read_excel('Time Series.xlsx')"
   ]
  },
  {
   "cell_type": "code",
   "execution_count": 3,
   "metadata": {},
   "outputs": [
    {
     "data": {
      "text/plain": [
       "(10885, 4)"
      ]
     },
     "execution_count": 3,
     "metadata": {},
     "output_type": "execute_result"
    }
   ],
   "source": [
    "df.shape"
   ]
  },
  {
   "cell_type": "code",
   "execution_count": 4,
   "metadata": {},
   "outputs": [
    {
     "data": {
      "text/plain": [
       "10"
      ]
     },
     "execution_count": 4,
     "metadata": {},
     "output_type": "execute_result"
    }
   ],
   "source": [
    "activity_counts = df['Activity'].value_counts()\n",
    "len(activity_counts)"
   ]
  },
  {
   "cell_type": "code",
   "execution_count": 5,
   "metadata": {},
   "outputs": [],
   "source": [
    "df['Check'] = df.apply(lambda row: 'yes' if row['Start'] < row['End'] else 'no', axis=1)"
   ]
  },
  {
   "cell_type": "code",
   "execution_count": 6,
   "metadata": {},
   "outputs": [
    {
     "data": {
      "text/plain": [
       "array(['no', 'yes'], dtype=object)"
      ]
     },
     "execution_count": 6,
     "metadata": {},
     "output_type": "execute_result"
    }
   ],
   "source": [
    "df['Check'].unique()"
   ]
  },
  {
   "cell_type": "code",
   "execution_count": 7,
   "metadata": {},
   "outputs": [
    {
     "data": {
      "text/plain": [
       "Check\n",
       "no     5478\n",
       "yes    5407\n",
       "Name: count, dtype: int64"
      ]
     },
     "execution_count": 7,
     "metadata": {},
     "output_type": "execute_result"
    }
   ],
   "source": [
    "check_counts = df['Check'].value_counts()\n",
    "check_counts"
   ]
  },
  {
   "cell_type": "code",
   "execution_count": 22,
   "metadata": {},
   "outputs": [
    {
     "data": {
      "text/plain": [
       "<bound method Series.unique of 4341    2023-03-29 15:31:52.620\n",
       "10807   2023-03-29 15:31:52.620\n",
       "10356   2023-03-29 15:31:52.620\n",
       "10846   2023-03-29 17:55:52.620\n",
       "9894    2023-03-29 17:55:52.620\n",
       "                  ...          \n",
       "1542    2023-10-05 05:55:52.620\n",
       "3899    2023-10-06 01:07:52.620\n",
       "8894    2023-10-06 13:07:52.620\n",
       "8103    2023-10-07 10:43:52.620\n",
       "1567    2023-10-09 22:43:52.620\n",
       "Name: Start, Length: 10885, dtype: datetime64[ns]>"
      ]
     },
     "execution_count": 22,
     "metadata": {},
     "output_type": "execute_result"
    }
   ],
   "source": [
    "df['Start'].unique"
   ]
  },
  {
   "cell_type": "code",
   "execution_count": 8,
   "metadata": {},
   "outputs": [],
   "source": [
    "condition = df['Start'] > df['End']\n",
    "df.loc[condition, ['Start', 'End']] = df.loc[condition, ['End', 'Start']].values\n"
   ]
  },
  {
   "cell_type": "code",
   "execution_count": 9,
   "metadata": {},
   "outputs": [],
   "source": [
    "df = df.sort_values(by=['Name','Start','End'])\n",
    "\n",
    "df['prev_end_time'] = df.groupby('Name')['End'].shift(1)\n",
    "\n",
    "df['group_id'] = np.where((df['prev_end_time'].isnull()) | (df['Start'] > df['prev_end_time']), 1, 0)\n",
    "\n",
    "df['period_number'] = df.groupby('Name')['group_id'].cumsum()\n",
    "\n"
   ]
  },
  {
   "cell_type": "code",
   "execution_count": 10,
   "metadata": {},
   "outputs": [
    {
     "data": {
      "text/plain": [
       "4341     1\n",
       "10807    1\n",
       "10356    1\n",
       "10846    1\n",
       "9894     1\n",
       "        ..\n",
       "1542     3\n",
       "3899     3\n",
       "8894     4\n",
       "8103     4\n",
       "1567     4\n",
       "Name: period_number, Length: 10885, dtype: int32"
      ]
     },
     "execution_count": 10,
     "metadata": {},
     "output_type": "execute_result"
    }
   ],
   "source": [
    "df['period_number']"
   ]
  },
  {
   "cell_type": "code",
   "execution_count": 24,
   "metadata": {},
   "outputs": [],
   "source": [
    "aggregated = df.groupby(['Name', 'period_number']).agg(\n",
    "    period_start=('Start', 'min'),\n",
    "    period_end=('End', 'max'),\n",
    "    activities=('Activity', lambda x: ', '.join(x))\n",
    ").reset_index()\n",
    "\n",
    "aggregated = aggregated.sort_values(by=['period_start','Name'])"
   ]
  },
  {
   "cell_type": "code",
   "execution_count": 25,
   "metadata": {},
   "outputs": [],
   "source": [
    "aggregated.reset_index(drop= True, inplace = True)\n",
    "aggregated.drop(columns='period_number', inplace= True)"
   ]
  },
  {
   "cell_type": "code",
   "execution_count": 26,
   "metadata": {},
   "outputs": [
    {
     "data": {
      "text/html": [
       "<div>\n",
       "<style scoped>\n",
       "    .dataframe tbody tr th:only-of-type {\n",
       "        vertical-align: middle;\n",
       "    }\n",
       "\n",
       "    .dataframe tbody tr th {\n",
       "        vertical-align: top;\n",
       "    }\n",
       "\n",
       "    .dataframe thead th {\n",
       "        text-align: right;\n",
       "    }\n",
       "</style>\n",
       "<table border=\"1\" class=\"dataframe\">\n",
       "  <thead>\n",
       "    <tr style=\"text-align: right;\">\n",
       "      <th></th>\n",
       "      <th>Name</th>\n",
       "      <th>period_start</th>\n",
       "      <th>period_end</th>\n",
       "      <th>activities</th>\n",
       "    </tr>\n",
       "  </thead>\n",
       "  <tbody>\n",
       "    <tr>\n",
       "      <th>0</th>\n",
       "      <td>Deepti</td>\n",
       "      <td>2023-03-29 15:31:52.620</td>\n",
       "      <td>2023-10-15 08:19:52.620</td>\n",
       "      <td>Business Development, Reply to Customers, Podc...</td>\n",
       "    </tr>\n",
       "    <tr>\n",
       "      <th>1</th>\n",
       "      <td>Jyoti</td>\n",
       "      <td>2023-03-29 15:31:52.620</td>\n",
       "      <td>2023-10-13 13:07:52.620</td>\n",
       "      <td>Business Development, Updates, Fund raising, I...</td>\n",
       "    </tr>\n",
       "    <tr>\n",
       "      <th>2</th>\n",
       "      <td>Priyanka</td>\n",
       "      <td>2023-03-29 15:31:52.620</td>\n",
       "      <td>2023-10-15 15:31:52.620</td>\n",
       "      <td>Business Development, Reply to Customers, Remo...</td>\n",
       "    </tr>\n",
       "    <tr>\n",
       "      <th>3</th>\n",
       "      <td>Ravi</td>\n",
       "      <td>2023-03-29 15:31:52.620</td>\n",
       "      <td>2023-10-15 13:07:52.620</td>\n",
       "      <td>Call, Remote Inspection, Call, Remote Inspecti...</td>\n",
       "    </tr>\n",
       "    <tr>\n",
       "      <th>4</th>\n",
       "      <td>Sharan</td>\n",
       "      <td>2023-03-29 15:31:52.620</td>\n",
       "      <td>2023-10-15 15:31:52.620</td>\n",
       "      <td>Inspection, Updates, Fund raising, Send Email,...</td>\n",
       "    </tr>\n",
       "    <tr>\n",
       "      <th>5</th>\n",
       "      <td>Deepti</td>\n",
       "      <td>2023-04-02 15:31:52.620</td>\n",
       "      <td>2023-10-15 13:07:52.620</td>\n",
       "      <td>Reply to Customers, Business Development, Upda...</td>\n",
       "    </tr>\n",
       "    <tr>\n",
       "      <th>6</th>\n",
       "      <td>Jyoti</td>\n",
       "      <td>2023-04-10 08:19:52.620</td>\n",
       "      <td>2023-10-14 15:31:52.620</td>\n",
       "      <td>Business Development, Remote Inspection, Podca...</td>\n",
       "    </tr>\n",
       "    <tr>\n",
       "      <th>7</th>\n",
       "      <td>Jyoti</td>\n",
       "      <td>2023-05-09 01:07:52.620</td>\n",
       "      <td>2023-10-15 13:07:52.620</td>\n",
       "      <td>Updates, Business Development, Call, Inspectio...</td>\n",
       "    </tr>\n",
       "    <tr>\n",
       "      <th>8</th>\n",
       "      <td>Deepti</td>\n",
       "      <td>2023-09-06 20:19:52.620</td>\n",
       "      <td>2023-10-15 15:31:52.620</td>\n",
       "      <td>Reply to Customers, Inspection, Remote Inspect...</td>\n",
       "    </tr>\n",
       "    <tr>\n",
       "      <th>9</th>\n",
       "      <td>Priyanka</td>\n",
       "      <td>2023-09-06 22:43:52.620</td>\n",
       "      <td>2023-10-15 13:07:52.620</td>\n",
       "      <td>Fund raising, Business Development, Business D...</td>\n",
       "    </tr>\n",
       "    <tr>\n",
       "      <th>10</th>\n",
       "      <td>Deepti</td>\n",
       "      <td>2023-09-17 01:07:52.620</td>\n",
       "      <td>2023-10-15 13:07:52.620</td>\n",
       "      <td>Fund raising, Remote Inspection, Reporting, Ca...</td>\n",
       "    </tr>\n",
       "    <tr>\n",
       "      <th>11</th>\n",
       "      <td>Sharan</td>\n",
       "      <td>2023-09-27 03:31:52.620</td>\n",
       "      <td>2023-10-13 01:07:52.620</td>\n",
       "      <td>Fund raising, Business Development, Podcast, I...</td>\n",
       "    </tr>\n",
       "    <tr>\n",
       "      <th>12</th>\n",
       "      <td>Sharan</td>\n",
       "      <td>2023-10-03 15:31:52.620</td>\n",
       "      <td>2023-10-14 22:43:52.620</td>\n",
       "      <td>Send Email, Business Development, Podcast, Ins...</td>\n",
       "    </tr>\n",
       "    <tr>\n",
       "      <th>13</th>\n",
       "      <td>Sharan</td>\n",
       "      <td>2023-10-06 13:07:52.620</td>\n",
       "      <td>2023-10-14 05:55:52.620</td>\n",
       "      <td>Call, Reply to Customers, Send Email</td>\n",
       "    </tr>\n",
       "    <tr>\n",
       "      <th>14</th>\n",
       "      <td>Ravi</td>\n",
       "      <td>2023-10-07 08:19:52.620</td>\n",
       "      <td>2023-10-14 08:19:52.620</td>\n",
       "      <td>Call, Inspection, Inspection, Inspection, Call...</td>\n",
       "    </tr>\n",
       "    <tr>\n",
       "      <th>15</th>\n",
       "      <td>Jyoti</td>\n",
       "      <td>2023-10-07 15:31:52.620</td>\n",
       "      <td>2023-10-15 13:07:52.620</td>\n",
       "      <td>Podcast, Podcast, Inspection, Reporting, Busin...</td>\n",
       "    </tr>\n",
       "    <tr>\n",
       "      <th>16</th>\n",
       "      <td>Ravi</td>\n",
       "      <td>2023-10-10 17:55:52.620</td>\n",
       "      <td>2023-10-13 03:31:52.620</td>\n",
       "      <td>Reply to Customers</td>\n",
       "    </tr>\n",
       "  </tbody>\n",
       "</table>\n",
       "</div>"
      ],
      "text/plain": [
       "        Name            period_start              period_end  \\\n",
       "0     Deepti 2023-03-29 15:31:52.620 2023-10-15 08:19:52.620   \n",
       "1      Jyoti 2023-03-29 15:31:52.620 2023-10-13 13:07:52.620   \n",
       "2   Priyanka 2023-03-29 15:31:52.620 2023-10-15 15:31:52.620   \n",
       "3       Ravi 2023-03-29 15:31:52.620 2023-10-15 13:07:52.620   \n",
       "4     Sharan 2023-03-29 15:31:52.620 2023-10-15 15:31:52.620   \n",
       "5     Deepti 2023-04-02 15:31:52.620 2023-10-15 13:07:52.620   \n",
       "6      Jyoti 2023-04-10 08:19:52.620 2023-10-14 15:31:52.620   \n",
       "7      Jyoti 2023-05-09 01:07:52.620 2023-10-15 13:07:52.620   \n",
       "8     Deepti 2023-09-06 20:19:52.620 2023-10-15 15:31:52.620   \n",
       "9   Priyanka 2023-09-06 22:43:52.620 2023-10-15 13:07:52.620   \n",
       "10    Deepti 2023-09-17 01:07:52.620 2023-10-15 13:07:52.620   \n",
       "11    Sharan 2023-09-27 03:31:52.620 2023-10-13 01:07:52.620   \n",
       "12    Sharan 2023-10-03 15:31:52.620 2023-10-14 22:43:52.620   \n",
       "13    Sharan 2023-10-06 13:07:52.620 2023-10-14 05:55:52.620   \n",
       "14      Ravi 2023-10-07 08:19:52.620 2023-10-14 08:19:52.620   \n",
       "15     Jyoti 2023-10-07 15:31:52.620 2023-10-15 13:07:52.620   \n",
       "16      Ravi 2023-10-10 17:55:52.620 2023-10-13 03:31:52.620   \n",
       "\n",
       "                                           activities  \n",
       "0   Business Development, Reply to Customers, Podc...  \n",
       "1   Business Development, Updates, Fund raising, I...  \n",
       "2   Business Development, Reply to Customers, Remo...  \n",
       "3   Call, Remote Inspection, Call, Remote Inspecti...  \n",
       "4   Inspection, Updates, Fund raising, Send Email,...  \n",
       "5   Reply to Customers, Business Development, Upda...  \n",
       "6   Business Development, Remote Inspection, Podca...  \n",
       "7   Updates, Business Development, Call, Inspectio...  \n",
       "8   Reply to Customers, Inspection, Remote Inspect...  \n",
       "9   Fund raising, Business Development, Business D...  \n",
       "10  Fund raising, Remote Inspection, Reporting, Ca...  \n",
       "11  Fund raising, Business Development, Podcast, I...  \n",
       "12  Send Email, Business Development, Podcast, Ins...  \n",
       "13               Call, Reply to Customers, Send Email  \n",
       "14  Call, Inspection, Inspection, Inspection, Call...  \n",
       "15  Podcast, Podcast, Inspection, Reporting, Busin...  \n",
       "16                                 Reply to Customers  "
      ]
     },
     "execution_count": 26,
     "metadata": {},
     "output_type": "execute_result"
    }
   ],
   "source": [
    "aggregated"
   ]
  }
 ],
 "metadata": {
  "kernelspec": {
   "display_name": "Python 3",
   "language": "python",
   "name": "python3"
  },
  "language_info": {
   "codemirror_mode": {
    "name": "ipython",
    "version": 3
   },
   "file_extension": ".py",
   "mimetype": "text/x-python",
   "name": "python",
   "nbconvert_exporter": "python",
   "pygments_lexer": "ipython3",
   "version": "3.11.4"
  }
 },
 "nbformat": 4,
 "nbformat_minor": 2
}
